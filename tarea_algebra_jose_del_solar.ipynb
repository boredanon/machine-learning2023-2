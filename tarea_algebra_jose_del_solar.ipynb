{
  "nbformat": 4,
  "nbformat_minor": 0,
  "metadata": {
    "colab": {
      "provenance": [],
      "authorship_tag": "ABX9TyNwYvscWyR/Y8Yi8MaGY6Pr",
      "include_colab_link": true
    },
    "kernelspec": {
      "name": "python3",
      "display_name": "Python 3"
    },
    "language_info": {
      "name": "python"
    }
  },
  "cells": [
    {
      "cell_type": "markdown",
      "metadata": {
        "id": "view-in-github",
        "colab_type": "text"
      },
      "source": [
        "<a href=\"https://colab.research.google.com/github/boredanon/machine-learning2023-2/blob/main/tarea_algebra_jose_del_solar.ipynb\" target=\"_parent\"><img src=\"https://colab.research.google.com/assets/colab-badge.svg\" alt=\"Open In Colab\"/></a>"
      ]
    },
    {
      "cell_type": "markdown",
      "source": [
        "## Tarea Corta: Algebra\n",
        "**Nombre:** José del Solar Zavala\n",
        "\n",
        "Doctorado en Sistemas de Ingeniería\n",
        "\n",
        "**Módulo:** Machine Learning\n",
        "\n",
        "**Profesor:** César Astudillo\n",
        "\n",
        "**Fecha:** 07/09/23"
      ],
      "metadata": {
        "id": "lArJ0GjTw1LH"
      }
    },
    {
      "cell_type": "markdown",
      "source": [
        "# Enunciado\n",
        "\n",
        "*Dado que la compra de 2 boletos de adulto y 1 boleto de niño tiene un costo de \\$32, y la compra de 1 boleto de adulto y 3 boletos de niño tiene un costo de \\$36, se requiere encontrar el precio individual de cada tipo de boleto.*\n",
        "\n",
        "## Metodología\n",
        "\n",
        "Primero, se resolverá el problema de hallar el precio individual de cada tipo de boleto (adulto y niño) a mano de forma algebraica. Luego, se graficará por medio de Python."
      ],
      "metadata": {
        "id": "BGvLXG_Sznjn"
      }
    },
    {
      "cell_type": "markdown",
      "source": [
        "## Resolución Algebraica\n",
        "\n",
        "\n",
        "\n",
        "Notemos que las variables son los boletos de adulto y niño.\n",
        "\n",
        "$x$ : boleto de adulto\n",
        "\n",
        "$y$ : boleto de niño\n",
        "\n",
        "Entonces, podemos escribir las ecuaciones del enunciado en función de $x$ e $y$, tal que\n",
        "\n",
        "(1): $2x + y = 32$\n",
        "\n",
        "(2): $x + 3y = 36$\n",
        "\n",
        "Entonces, podemos notar que (1) y (2) forman un sistema de ecuaciones lineales.\n",
        "\n",
        "Existen distintas formas de resolver este sistema. Para este caso, primero multiplicaremos (2) por -2, tal que\n",
        "\n",
        "$x + 3y = 36 \\: | * (-2)$\n",
        "\n",
        "(3): $-2x - 6y = -72$\n",
        "\n",
        "Ahora, sumamos (1) y (3), tal que\n",
        "\n",
        "$2x + y + (-2x - 6y) = 32 - 72$\n",
        "\n",
        "$2x + y - 2x - 6y = 32 - 72$\n",
        "\n",
        "$-5y = -40$\n",
        "\n",
        "Podemos multiplicar esta expresión por $(-\\frac{1}{5})$, tal que\n",
        "\n",
        "$-\\frac{1}{5} * -5y = -\\frac{1}{5} * -40$\n",
        "\n",
        "$y = 8$\n",
        "\n",
        "Teniendo el valor de $y$, podemos reemplazarlo en cualquiera de las fórmulas (1) y (2) para obtener el valor de $x$.\n",
        "\n",
        "$2x + y = 32$\n",
        "\n",
        "$2x + 8 = 32$\n",
        "\n",
        "$2x = 32 - 8$\n",
        "\n",
        "$2x = 24$\n",
        "\n",
        "$x = 12$\n",
        "\n",
        "Por lo que la solución al sistema de ecuaciones es,\n",
        "\n",
        "$x = 12; y = 8$\n",
        "\n",
        "Por lo tanto, la respuesta al problema es:\n",
        "\n",
        "Dado que la compra de 2 boletos de adulto y 1 de niño tiene un costo de \\\\$32, y la compra de 1 boleto de adulto y 3 boletos de niño tiene un costo de \\\\$36. **El precio de un boleto de adulto es de \\\\$12 y el precio de un boleto de niño es de \\\\$8**"
      ],
      "metadata": {
        "id": "eHqm9TCKz1iI"
      }
    },
    {
      "cell_type": "markdown",
      "source": [
        "## Gráficos en Python\n",
        "\n",
        "Antes que nada, como sabemos que vamos a trabajar con números y con gráficos, se importará *numpy* y *matplotlib*"
      ],
      "metadata": {
        "id": "vzrLUVDP44VR"
      }
    },
    {
      "cell_type": "code",
      "execution_count": 3,
      "metadata": {
        "id": "Tyt2O0mJwxYV"
      },
      "outputs": [],
      "source": [
        "import numpy as np\n",
        "import matplotlib.pyplot as plt"
      ]
    }
  ]
}