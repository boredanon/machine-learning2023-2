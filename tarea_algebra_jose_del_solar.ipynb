{
  "nbformat": 4,
  "nbformat_minor": 0,
  "metadata": {
    "colab": {
      "provenance": [],
      "authorship_tag": "ABX9TyMT1xBfpUcacHB3CHwzNj7a",
      "include_colab_link": true
    },
    "kernelspec": {
      "name": "python3",
      "display_name": "Python 3"
    },
    "language_info": {
      "name": "python"
    }
  },
  "cells": [
    {
      "cell_type": "markdown",
      "metadata": {
        "id": "view-in-github",
        "colab_type": "text"
      },
      "source": [
        "<a href=\"https://colab.research.google.com/github/boredanon/machine-learning2023-2/blob/main/tarea_algebra_jose_del_solar.ipynb\" target=\"_parent\"><img src=\"https://colab.research.google.com/assets/colab-badge.svg\" alt=\"Open In Colab\"/></a>"
      ]
    },
    {
      "cell_type": "markdown",
      "source": [
        "## Tarea Corta: Algebra\n",
        "**Nombre:** José del Solar Zavala\n",
        "\n",
        "Doctorado en Sistemas de Ingeniería\n",
        "\n",
        "**Módulo:** Machine Learning\n",
        "\n",
        "**Fecha:** 07/09/23"
      ],
      "metadata": {
        "id": "lArJ0GjTw1LH"
      }
    },
    {
      "cell_type": "code",
      "execution_count": null,
      "metadata": {
        "id": "Tyt2O0mJwxYV"
      },
      "outputs": [],
      "source": []
    }
  ]
}