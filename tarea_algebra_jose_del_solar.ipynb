{
  "nbformat": 4,
  "nbformat_minor": 0,
  "metadata": {
    "colab": {
      "provenance": [],
      "authorship_tag": "ABX9TyP3Mu7o4g3K63gbFiOIKGc6",
      "include_colab_link": true
    },
    "kernelspec": {
      "name": "python3",
      "display_name": "Python 3"
    },
    "language_info": {
      "name": "python"
    }
  },
  "cells": [
    {
      "cell_type": "markdown",
      "metadata": {
        "id": "view-in-github",
        "colab_type": "text"
      },
      "source": [
        "<a href=\"https://colab.research.google.com/github/boredanon/machine-learning2023-2/blob/main/tarea_algebra_jose_del_solar.ipynb\" target=\"_parent\"><img src=\"https://colab.research.google.com/assets/colab-badge.svg\" alt=\"Open In Colab\"/></a>"
      ]
    },
    {
      "cell_type": "markdown",
      "source": [
        "## Tarea Corta: Algebra\n",
        "**Nombre:** José del Solar Zavala\n",
        "\n",
        "Doctorado en Sistemas de Ingeniería\n",
        "\n",
        "**Módulo:** Machine Learning\n",
        "\n",
        "**Profesor:** César Astudillo\n",
        "\n",
        "**Fecha:** 07/09/23"
      ],
      "metadata": {
        "id": "lArJ0GjTw1LH"
      }
    },
    {
      "cell_type": "markdown",
      "source": [
        "# Enunciado\n",
        "\n",
        "*Dado que la compra de 2 boletos de adulto y 1 boleto de niño tiene un costo de \\\\$32, y la compra de 1 boleto de adulto y 3 boletos de niño tiene un costo de \\\\$36, se requiere encontrar el precio individual de cada tipo de boleto.*\n",
        "\n",
        "## Metodología\n",
        "\n",
        "Primero, se resolverá el problema de hallar el precio individual de cada tipo de boleto (adulto y niño) a mano de forma algebraica. Luego, se graficará por medio de Python."
      ],
      "metadata": {
        "id": "BGvLXG_Sznjn"
      }
    },
    {
      "cell_type": "markdown",
      "source": [
        "## Resolución Algebraica\n",
        "\n",
        "\n",
        "\n",
        "Notemos que las variables son los boletos de adulto y niño.\n",
        "\n",
        "$x$ : boleto de adulto\n",
        "\n",
        "$y$ : boleto de niño\n",
        "\n",
        "Entonces, podemos escribir las ecuaciones del enunciado en función de $x$ e $y$, tal que\n",
        "\n",
        "(1): $2x + y = 32$\n",
        "\n",
        "(2): $x + 3y = 36$\n",
        "\n",
        "Entonces, podemos notar que (1) y (2) forman un sistema de ecuaciones lineales.\n",
        "\n",
        "Existen distintas formas de resolver este sistema. Para este caso, primero multiplicaremos (2) por -2, tal que\n",
        "\n",
        "$x + 3y = 36 \\: | * (-2)$\n",
        "\n",
        "(3): $-2x - 6y = -72$\n",
        "\n",
        "Ahora, sumamos (1) y (3), tal que\n",
        "\n",
        "$2x + y + (-2x - 6y) = 32 - 72$\n",
        "\n",
        "$2x + y - 2x - 6y = 32 - 72$\n",
        "\n",
        "$-5y = -40$\n",
        "\n",
        "Podemos multiplicar esta expresión por $(-\\frac{1}{5})$, tal que\n",
        "\n",
        "$-\\frac{1}{5} * -5y = -\\frac{1}{5} * -40$\n",
        "\n",
        "$y = 8$\n",
        "\n",
        "Teniendo el valor de $y$, podemos reemplazarlo en cualquiera de las fórmulas (1) y (2) para obtener el valor de $x$.\n",
        "\n",
        "$2x + y = 32$\n",
        "\n",
        "$2x + 8 = 32$\n",
        "\n",
        "$2x = 32 - 8$\n",
        "\n",
        "$2x = 24$\n",
        "\n",
        "$x = 12$\n",
        "\n",
        "Por lo que la solución al sistema de ecuaciones es,\n",
        "\n",
        "$x = 12; y = 8$\n",
        "\n",
        "Por lo tanto, la respuesta al problema es:\n",
        "\n",
        "Dado que la compra de 2 boletos de adulto y 1 de niño tiene un costo de \\\\$32, y la compra de 1 boleto de adulto y 3 boletos de niño tiene un costo de \\\\$36. **El precio de un boleto de adulto es de \\\\$12 y el precio de un boleto de niño es de \\\\$8**"
      ],
      "metadata": {
        "id": "eHqm9TCKz1iI"
      }
    },
    {
      "cell_type": "markdown",
      "source": [
        "## Gráfico en Python\n",
        "\n",
        "Antes que nada, como sabemos que vamos a trabajar con números y con gráficos, se importará *numpy* y *matplotlib*"
      ],
      "metadata": {
        "id": "vzrLUVDP44VR"
      }
    },
    {
      "cell_type": "code",
      "execution_count": 59,
      "metadata": {
        "id": "Tyt2O0mJwxYV"
      },
      "outputs": [],
      "source": [
        "import numpy as np\n",
        "import matplotlib.pyplot as plt"
      ]
    },
    {
      "cell_type": "markdown",
      "source": [
        "Tenemos nuestras ecuaciones (1) y (2) de cuando se resolvió el sistema de forma algebraica.\n",
        "\n",
        "(1): $2x + y = 32$\n",
        "\n",
        "(2): $x + 3y = 36$\n",
        "\n",
        "Sin embargo, para poder graficarlas en python, se requiere reordenar un poco los términos, tal que\n",
        "\n",
        "$2x + y = 32$\n",
        "\n",
        "$y = 32 - 2x$\n",
        "\n",
        "Y también para (2),\n",
        "\n",
        "$x + 3y = 36$\n",
        "\n",
        "$3y = 36 - x \\: | * \\frac{1}{3}$\n",
        "\n",
        "$\\frac{1}{3} * 3y = \\frac{1}{3} * 36 - \\frac{1}{3}x$\n",
        "\n",
        "$y = 12 - \\frac{1}{3}x$\n",
        "\n",
        "Para los valores de $x$ (en el eje horizontal), vamos a definir una sequencia lineal usando la librería numpy."
      ],
      "metadata": {
        "id": "0hF-JqpX6BsI"
      }
    },
    {
      "cell_type": "code",
      "source": [
        "x = np.linspace(0, 20, 100)"
      ],
      "metadata": {
        "id": "uUazRQjq6NcS"
      },
      "execution_count": 60,
      "outputs": []
    },
    {
      "cell_type": "markdown",
      "source": [
        "Para poder tener dos gráficos distintos, llamaremos a las $y$ en nuestras ecuaciones ordenadas $y_1$ e $y_2$ respectivamente, tal que"
      ],
      "metadata": {
        "id": "eJjh6eLh8sQ4"
      }
    },
    {
      "cell_type": "code",
      "source": [
        "y_1 = 32 - 2*x\n",
        "y_2 = 12 - (1/3)*x"
      ],
      "metadata": {
        "id": "FXGaYX5H84Lw"
      },
      "execution_count": 61,
      "outputs": []
    },
    {
      "cell_type": "markdown",
      "source": [
        "Ahora podemos gráficar utilizando el matplotlib previamente importado.\n",
        "Notemos que previamente obtuvimos de la resolución algebraica que los precios de los boletos eran \\$12 y \\$8 respectivamente, esto equivale a que el punto (12,8) debería ser la intersección entre ambos gráficos."
      ],
      "metadata": {
        "id": "bMgD_9n29U1i"
      }
    },
    {
      "cell_type": "code",
      "source": [
        "fig, ax = plt.subplots()\n",
        "plt.title(\"Precio de boletos de adulto y niño\")\n",
        "plt.xlabel(\"Precio de boleto de adulto (en $)\")\n",
        "plt.ylabel(\"Precio de boleto de niño (en $)\")\n",
        "\n",
        "plt.locator_params(axis=\"both\", integer=True, tight=True)\n",
        "\n",
        "ax.set_xlim([0, 20])\n",
        "ax.set_ylim([0, 20])\n",
        "\n",
        "ax.set_xticks(range(0,21,2)) #Esto es para que vaya de 2 en 2 en vez del default.\n",
        "ax.set_yticks(range(0,21,2))\n",
        "\n",
        "ax.plot(x, y_1, c='red')\n",
        "ax.plot(x, y_2, c='blue')\n",
        "\n",
        "plt.axvline(x=12, color='purple', linestyle='--')\n",
        "plt.axhline(y=8, color='purple', linestyle='--')"
      ],
      "metadata": {
        "colab": {
          "base_uri": "https://localhost:8080/",
          "height": 489
        },
        "id": "tlDGUgsM9ULz",
        "outputId": "eee48f7c-7de4-45fc-d12f-0a2b364cf65e"
      },
      "execution_count": 71,
      "outputs": [
        {
          "output_type": "execute_result",
          "data": {
            "text/plain": [
              "<matplotlib.lines.Line2D at 0x78d1189a14b0>"
            ]
          },
          "metadata": {},
          "execution_count": 71
        },
        {
          "output_type": "display_data",
          "data": {
            "text/plain": [
              "<Figure size 640x480 with 1 Axes>"
            ],
            "image/png": "[encoded data removed]"
          },
          "metadata": {}
        }
      ]
    }
  ]
}