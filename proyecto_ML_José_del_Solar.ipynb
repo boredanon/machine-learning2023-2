{
  "nbformat": 4,
  "nbformat_minor": 0,
  "metadata": {
    "colab": {
      "provenance": [],
      "authorship_tag": "ABX9TyPWBCjZn/yDcLAaVDQD01Wd",
      "include_colab_link": true
    },
    "kernelspec": {
      "name": "python3",
      "display_name": "Python 3"
    },
    "language_info": {
      "name": "python"
    }
  },
  "cells": [
    {
      "cell_type": "markdown",
      "metadata": {
        "id": "view-in-github",
        "colab_type": "text"
      },
      "source": [
        "<a href=\"https://colab.research.google.com/github/boredanon/machine-learning2023-2/blob/main/proyecto_ML_Jos%C3%A9_del_Solar.ipynb\" target=\"_parent\"><img src=\"https://colab.research.google.com/assets/colab-badge.svg\" alt=\"Open In Colab\"/></a>"
      ]
    },
    {
      "cell_type": "markdown",
      "source": [
        "# Obtaining the Data\n",
        "\n",
        "\n",
        "Install gspread to obtain the data directly from the google spreadsheet.\n",
        "\n",
        "Only run this block if:\n",
        "\n",
        "\n",
        "1) Running on colab\n",
        "\n",
        "\n",
        "2) Running locally while not having gspread installed in your system"
      ],
      "metadata": {
        "id": "OsZrX9WyWqGY"
      }
    },
    {
      "cell_type": "code",
      "execution_count": 16,
      "metadata": {
        "id": "Xh3DGheyVbep"
      },
      "outputs": [],
      "source": [
        "!pip install --upgrade -q gspread"
      ]
    },
    {
      "cell_type": "markdown",
      "source": [
        "Loading the data from the google spreadsheet.\n",
        "Do not worry it won't delete anything from your google drive, but the credentials are needed. 👀"
      ],
      "metadata": {
        "id": "56uXdOT5XxLe"
      }
    },
    {
      "cell_type": "code",
      "source": [
        "import gspread\n",
        "import pandas as pd\n",
        "from google.colab import auth\n",
        "from google.auth import default\n",
        "\n",
        "# Google mumbo jumbo magic stuff.\n",
        "auth.authenticate_user()\n",
        "creds, _ = default()\n",
        "\n",
        "gc = gspread.authorize(creds)\n",
        "sh = gc.open_by_url(\"https://docs.google.com/spreadsheets/d/1cJZIUTPoYliSej8ZQumPdrvWjcZeRyuEqyC4JyXpx-8/edit#gid=1570725307\")\n",
        "worksheet_A = sh.worksheet(\"A\")\n",
        "worksheet_B = sh.worksheet(\"B\") #There are two worksheets.\n",
        "\n",
        "#We have to skip the header in the second worksheet.\n",
        "rows_B = worksheet_B.get_all_values()[1:]\n",
        "\n",
        "#93 instances\n",
        "rows = worksheet_A.get_all_values() + rows_B\n",
        "\n",
        "#Skipping.\n",
        "df = pd.DataFrame(rows[1:], columns = rows[0])\n",
        "\n",
        "X = df.drop(columns=['Y'])\n",
        "y = df['Y']\n",
        "\n",
        "X = X.astype(float)\n",
        "y = y.astype(float)\n"
      ],
      "metadata": {
        "id": "dXBv-lbiXSXa"
      },
      "execution_count": 2,
      "outputs": []
    },
    {
      "cell_type": "markdown",
      "source": [
        "Check if it loaded correctly, it should be 480 columns and 93 entries for X.\n",
        "93 entries and 1 column for y."
      ],
      "metadata": {
        "id": "AsccRP2saLai"
      }
    },
    {
      "cell_type": "code",
      "source": [
        "print(X.info(), \"\\n\")\n",
        "print(y.info())\n",
        "\n",
        "print(X.describe())\n",
        "print(y.describe())"
      ],
      "metadata": {
        "id": "9eg4TMQ6aMZI",
        "outputId": "22299371-3c2e-4e74-90f9-216176acb58c",
        "colab": {
          "base_uri": "https://localhost:8080/"
        }
      },
      "execution_count": 41,
      "outputs": [
        {
          "output_type": "stream",
          "name": "stdout",
          "text": [
            "<class 'pandas.core.frame.DataFrame'>\n",
            "RangeIndex: 93 entries, 0 to 92\n",
            "Columns: 480 entries, X1 to X480\n",
            "dtypes: float64(480)\n",
            "memory usage: 348.9 KB\n",
            "None \n",
            "\n",
            "<class 'pandas.core.series.Series'>\n",
            "RangeIndex: 93 entries, 0 to 92\n",
            "Series name: Y\n",
            "Non-Null Count  Dtype  \n",
            "--------------  -----  \n",
            "93 non-null     float64\n",
            "dtypes: float64(1)\n",
            "memory usage: 872.0 bytes\n",
            "None\n",
            "               X1          X2          X3          X4          X5          X6  \\\n",
            "count   93.000000   93.000000   93.000000   93.000000   93.000000   93.000000   \n",
            "mean   921.198065  922.966667  921.956774  921.920108  924.829462  923.234946   \n",
            "std     21.580701   23.203403   23.120603   22.511511   21.168588   22.694371   \n",
            "min    898.170000  898.200000  897.320000  897.560000  901.710000  898.870000   \n",
            "25%    901.530000  901.860000  900.910000  901.410000  905.570000  902.510000   \n",
            "50%    904.250000  904.510000  903.540000  904.280000  908.230000  905.360000   \n",
            "75%    943.910000  947.530000  946.310000  945.570000  947.030000  947.190000   \n",
            "max    948.090000  951.620000  950.710000  949.700000  951.060000  951.500000   \n",
            "\n",
            "               X7          X8          X9         X10  ...       X471  \\\n",
            "count   93.000000   93.000000   93.000000   93.000000  ...  93.000000   \n",
            "mean   921.457419  921.599140  922.459892  922.065376  ...   3.259355   \n",
            "std     22.962681   22.545082   22.642812   19.751497  ...   0.400949   \n",
            "min    896.620000  897.200000  898.160000  900.230000  ...   2.780000   \n",
            "25%    900.560000  901.040000  901.840000  904.050000  ...   2.900000   \n",
            "50%    903.320000  904.020000  904.790000  907.040000  ...   2.930000   \n",
            "75%    945.530000  945.260000  946.130000  942.730000  ...   3.700000   \n",
            "max    950.090000  949.820000  950.590000  947.050000  ...   3.770000   \n",
            "\n",
            "            X472       X473       X474       X475       X476       X477  \\\n",
            "count  93.000000  93.000000  93.000000  93.000000  93.000000  93.000000   \n",
            "mean    3.415376   3.300323   3.445161   3.396129   3.283548   3.470753   \n",
            "std     0.464228   0.719723   0.424017   0.516049   0.544076   0.278045   \n",
            "min     2.790000   2.580000   2.940000   2.830000   2.710000   3.110000   \n",
            "25%     3.000000   2.650000   3.060000   2.930000   2.790000   3.230000   \n",
            "50%     3.070000   2.710000   3.130000   2.990000   2.840000   3.280000   \n",
            "75%     3.920000   4.080000   3.900000   3.970000   3.870000   3.780000   \n",
            "max     4.000000   4.160000   3.970000   4.020000   3.940000   3.840000   \n",
            "\n",
            "            X478       X479       X480  \n",
            "count  93.000000  93.000000  93.000000  \n",
            "mean    3.470430   3.415484   3.407634  \n",
            "std     0.688213   0.421953   0.685205  \n",
            "min     2.690000   2.890000   2.670000  \n",
            "25%     2.850000   3.040000   2.780000  \n",
            "50%     2.920000   3.070000   2.850000  \n",
            "75%     4.210000   3.880000   4.160000  \n",
            "max     4.320000   3.940000   4.240000  \n",
            "\n",
            "[8 rows x 480 columns]\n",
            "count    93.000000\n",
            "mean     -1.341935\n",
            "std       1.841017\n",
            "min      -6.700000\n",
            "25%      -2.500000\n",
            "50%      -0.960000\n",
            "75%       0.000000\n",
            "max       1.800000\n",
            "Name: Y, dtype: float64\n"
          ]
        }
      ]
    },
    {
      "cell_type": "markdown",
      "source": [
        "## Preprocessing of the data"
      ],
      "metadata": {
        "id": "IgOUmY3_cCZF"
      }
    },
    {
      "cell_type": "code",
      "source": [
        "print(df.isnull().sum())"
      ],
      "metadata": {
        "id": "sbLwzUynqa6p",
        "outputId": "cb936412-c572-4a46-ce3c-a1c1c3b0edf1",
        "colab": {
          "base_uri": "https://localhost:8080/"
        }
      },
      "execution_count": 5,
      "outputs": [
        {
          "output_type": "stream",
          "name": "stdout",
          "text": [
            "Y       0\n",
            "X1      0\n",
            "X2      0\n",
            "X3      0\n",
            "X4      0\n",
            "       ..\n",
            "X476    0\n",
            "X477    0\n",
            "X478    0\n",
            "X479    0\n",
            "X480    0\n",
            "Length: 481, dtype: int64\n"
          ]
        }
      ]
    },
    {
      "cell_type": "code",
      "source": [
        "from scipy.stats import zscore\n",
        "from sklearn.model_selection import train_test_split\n",
        "\n",
        "X_zscore = zscore(X)\n",
        "X_train, X_test, y_train, y_test = train_test_split(X_zscore, y, test_size=0.2)\n",
        "\n",
        "print(X_zscore.info(), \"\\n\")\n",
        "print(X_zscore.describe())"
      ],
      "metadata": {
        "id": "i1-JuuQL3bD_",
        "outputId": "a4598a76-3a90-4e6e-afc1-937cc5058f33",
        "colab": {
          "base_uri": "https://localhost:8080/"
        }
      },
      "execution_count": 302,
      "outputs": [
        {
          "output_type": "stream",
          "name": "stdout",
          "text": [
            "<class 'pandas.core.frame.DataFrame'>\n",
            "RangeIndex: 93 entries, 0 to 92\n",
            "Columns: 480 entries, X1 to X480\n",
            "dtypes: float64(480)\n",
            "memory usage: 348.9 KB\n",
            "None \n",
            "\n",
            "                 X1            X2            X3            X4            X5  \\\n",
            "count  9.300000e+01  9.300000e+01  9.300000e+01  9.300000e+01  9.300000e+01   \n",
            "mean   8.261014e-15  3.538388e-15  3.096687e-15 -3.232778e-15  8.745692e-15   \n",
            "std    1.005420e+00  1.005420e+00  1.005420e+00  1.005420e+00  1.005420e+00   \n",
            "min   -1.072851e+00 -1.073157e+00 -1.071352e+00 -1.087983e+00 -1.098079e+00   \n",
            "25%   -9.163126e-01 -9.145670e-01 -9.152378e-01 -9.160324e-01 -9.147446e-01   \n",
            "50%   -7.895909e-01 -7.997406e-01 -8.008699e-01 -7.878511e-01 -7.884056e-01   \n",
            "75%    1.058123e+00  1.064347e+00  1.059022e+00  1.056263e+00  1.054433e+00   \n",
            "max    1.252864e+00  1.241569e+00  1.250360e+00  1.240719e+00  1.245842e+00   \n",
            "\n",
            "                 X6            X7            X8            X9           X10  \\\n",
            "count  9.300000e+01  9.300000e+01  9.300000e+01  9.300000e+01  9.300000e+01   \n",
            "mean  -4.631898e-16 -1.702342e-15 -6.336628e-15 -1.759644e-15  8.600050e-15   \n",
            "std    1.005420e+00  1.005420e+00  1.005420e+00  1.005420e+00  1.005420e+00   \n",
            "min   -1.079431e+00 -1.087505e+00 -1.088104e+00 -1.079000e+00 -1.111497e+00   \n",
            "25%   -9.181694e-01 -9.149927e-01 -9.168550e-01 -9.155954e-01 -9.170455e-01   \n",
            "50%   -7.919069e-01 -7.941462e-01 -7.839590e-01 -7.846051e-01 -7.648441e-01   \n",
            "75%    1.061272e+00  1.054017e+00  1.055179e+00  1.051036e+00  1.051901e+00   \n",
            "max    1.252216e+00  1.253676e+00  1.258537e+00  1.249075e+00  1.271805e+00   \n",
            "\n",
            "       ...          X471          X472          X473          X474  \\\n",
            "count  ...  9.300000e+01  9.300000e+01  9.300000e+01  9.300000e+01   \n",
            "mean   ... -1.912449e-15 -2.196570e-16  1.907674e-15 -1.360919e-15   \n",
            "std    ...  1.005420e+00  1.005420e+00  1.005420e+00  1.005420e+00   \n",
            "min    ... -1.202029e+00 -1.354433e+00 -1.006258e+00 -1.197828e+00   \n",
            "25%    ... -9.011176e-01 -8.996175e-01 -9.084711e-01 -9.132861e-01   \n",
            "50%    ... -8.258896e-01 -7.480123e-01 -8.246538e-01 -7.473037e-01   \n",
            "75%    ...  1.104961e+00  1.092908e+00  1.089174e+00  1.078504e+00   \n",
            "max    ...  1.280493e+00  1.266171e+00  1.200930e+00  1.244486e+00   \n",
            "\n",
            "               X475          X476          X477          X478          X479  \\\n",
            "count  9.300000e+01  9.300000e+01  9.300000e+01  9.300000e+01  9.300000e+01   \n",
            "mean   2.865092e-16 -1.122161e-15  1.676079e-15 -9.812939e-16 -2.196570e-16   \n",
            "std    1.005420e+00  1.005420e+00  1.005420e+00  1.005420e+00  1.005420e+00   \n",
            "min   -1.102991e+00 -1.059883e+00 -1.304492e+00 -1.140142e+00 -1.252110e+00   \n",
            "25%   -9.081608e-01 -9.120479e-01 -8.705688e-01 -9.063955e-01 -8.946938e-01   \n",
            "50%   -7.912626e-01 -8.196509e-01 -6.897673e-01 -8.041314e-01 -8.232106e-01   \n",
            "75%    1.118075e+00  1.083728e+00  1.118247e+00  1.080449e+00  1.106838e+00   \n",
            "max    1.215490e+00  1.213083e+00  1.335209e+00  1.241149e+00  1.249804e+00   \n",
            "\n",
            "               X480  \n",
            "count  9.300000e+01  \n",
            "mean  -1.320330e-15  \n",
            "std    1.005420e+00  \n",
            "min   -1.082352e+00  \n",
            "25%   -9.209459e-01  \n",
            "50%   -8.182329e-01  \n",
            "75%    1.103967e+00  \n",
            "max    1.221354e+00  \n",
            "\n",
            "[8 rows x 480 columns]\n"
          ]
        }
      ]
    },
    {
      "cell_type": "code",
      "source": [
        "threshold = 4\n",
        "outliers_X = (abs(X_train) > threshold).any(axis=1)\n",
        "\n",
        "X_train_no_outliers = X_train[~outliers_X]\n",
        "y_train_no_outliers = y_train[~outliers_X]\n",
        "\n",
        "alive = round((1 - (X_train_no_outliers.shape[0]/X_train.shape[0]))*100, 2)\n",
        "print(alive, \"% of data points were deleted.\")\n"
      ],
      "metadata": {
        "id": "xWlJQZHhuKUj",
        "outputId": "fac5499b-02de-4e09-aa0d-d649a98eb4b1",
        "colab": {
          "base_uri": "https://localhost:8080/"
        }
      },
      "execution_count": 284,
      "outputs": [
        {
          "output_type": "stream",
          "name": "stdout",
          "text": [
            "4.05 % of data points were deleted.\n"
          ]
        }
      ]
    },
    {
      "cell_type": "code",
      "source": [
        "from sklearn.decomposition import PCA\n",
        "\n",
        "pca = PCA(n_components=3)\n",
        "pca.fit(X_train_no_outliers)\n",
        "\n",
        "\n",
        "X_train_pca = pca.transform(X_train_no_outliers)\n",
        "X_test_pca = pca.transform(X_test)\n",
        "print(pca.explained_variance_ratio_)\n",
        "print(pca.explained_variance_ratio_.cumsum())"
      ],
      "metadata": {
        "colab": {
          "base_uri": "https://localhost:8080/"
        },
        "id": "AglcUduZluWX",
        "outputId": "5b4846a7-e1a1-443d-8189-2d2544a174e9"
      },
      "execution_count": 278,
      "outputs": [
        {
          "output_type": "stream",
          "name": "stdout",
          "text": [
            "[0.92606459 0.02967243 0.01008071]\n",
            "[0.92606459 0.95573701 0.96581772]\n"
          ]
        }
      ]
    },
    {
      "cell_type": "code",
      "source": [
        "import seaborn as sns\n",
        "import matplotlib.pyplot as plt\n",
        "\n",
        "X_train_pca_df = pd.DataFrame(X_train_pca, columns=['PC1', 'PC2', 'PC3'])\n",
        "X_train_pca_df['Y'] = y_train_no_outliers.copy()\n",
        "\n",
        "fig, axes = plt.subplots(1, 3, figsize=(15,5))\n",
        "\n",
        "sns.regplot(x='PC1', y='PC2', data=X_train_pca_df,scatter_kws={'s': 20}, line_kws={'color':'red'}, ax = axes[0])\n",
        "sns.regplot(x='PC1', y='PC3', data=X_train_pca_df,scatter_kws={'s': 20}, line_kws={'color':'red'}, ax = axes[1])\n",
        "sns.regplot(x='PC2', y='PC3', data=X_train_pca_df,scatter_kws={'s': 20}, line_kws={'color':'red'}, ax = axes[2])\n",
        "\n",
        "axes[0].set_title('PC1 v PC2')\n",
        "axes[1].set_title('PC1 v PC3')\n",
        "axes[2].set_title('PC2 v PC3')\n",
        "\n",
        "plt.tight_layout()\n",
        "\n",
        "plt.show()"
      ],
      "metadata": {
        "colab": {
          "base_uri": "https://localhost:8080/",
          "height": 443
        },
        "id": "ijo4QYTlobdE",
        "outputId": "33b9c31d-7f10-4c83-d5e0-a293a9830b2e"
      },
      "execution_count": 285,
      "outputs": [
        {
          "output_type": "display_data",
          "data": {
            "text/plain": [
              "<Figure size 1500x500 with 3 Axes>"
            ],
            "image/png": "[encoded data removed]"
          },
          "metadata": {}
        }
      ]
    },
    {
      "cell_type": "code",
      "source": [
        "from sklearn.svm import SVR\n",
        "\n",
        "from sklearn.metrics import mean_squared_error, r2_score\n",
        "\n",
        "svr = SVR(kernel='rbf', C=100)\n",
        "svr.fit(X_train_pca, y_train_no_outliers)"
      ],
      "metadata": {
        "id": "tb-X3eOphbsB",
        "outputId": "52cee1db-b6c1-4ed0-ce71-6f3c00ed3105",
        "colab": {
          "base_uri": "https://localhost:8080/",
          "height": 74
        }
      },
      "execution_count": 294,
      "outputs": [
        {
          "output_type": "execute_result",
          "data": {
            "text/plain": [
              "SVR(C=100)"
            ],
            "text/html": [
              "<style>#sk-container-id-11 {color: black;background-color: white;}#sk-container-id-11 pre{padding: 0;}#sk-container-id-11 div.sk-toggleable {background-color: white;}#sk-container-id-11 label.sk-toggleable__label {cursor: pointer;display: block;width: 100%;margin-bottom: 0;padding: 0.3em;box-sizing: border-box;text-align: center;}#sk-container-id-11 label.sk-toggleable__label-arrow:before {content: \"▸\";float: left;margin-right: 0.25em;color: #696969;}#sk-container-id-11 label.sk-toggleable__label-arrow:hover:before {color: black;}#sk-container-id-11 div.sk-estimator:hover label.sk-toggleable__label-arrow:before {color: black;}#sk-container-id-11 div.sk-toggleable__content {max-height: 0;max-width: 0;overflow: hidden;text-align: left;background-color: #f0f8ff;}#sk-container-id-11 div.sk-toggleable__content pre {margin: 0.2em;color: black;border-radius: 0.25em;background-color: #f0f8ff;}#sk-container-id-11 input.sk-toggleable__control:checked~div.sk-toggleable__content {max-height: 200px;max-width: 100%;overflow: auto;}#sk-container-id-11 input.sk-toggleable__control:checked~label.sk-toggleable__label-arrow:before {content: \"▾\";}#sk-container-id-11 div.sk-estimator input.sk-toggleable__control:checked~label.sk-toggleable__label {background-color: #d4ebff;}#sk-container-id-11 div.sk-label input.sk-toggleable__control:checked~label.sk-toggleable__label {background-color: #d4ebff;}#sk-container-id-11 input.sk-hidden--visually {border: 0;clip: rect(1px 1px 1px 1px);clip: rect(1px, 1px, 1px, 1px);height: 1px;margin: -1px;overflow: hidden;padding: 0;position: absolute;width: 1px;}#sk-container-id-11 div.sk-estimator {font-family: monospace;background-color: #f0f8ff;border: 1px dotted black;border-radius: 0.25em;box-sizing: border-box;margin-bottom: 0.5em;}#sk-container-id-11 div.sk-estimator:hover {background-color: #d4ebff;}#sk-container-id-11 div.sk-parallel-item::after {content: \"\";width: 100%;border-bottom: 1px solid gray;flex-grow: 1;}#sk-container-id-11 div.sk-label:hover label.sk-toggleable__label {background-color: #d4ebff;}#sk-container-id-11 div.sk-serial::before {content: \"\";position: absolute;border-left: 1px solid gray;box-sizing: border-box;top: 0;bottom: 0;left: 50%;z-index: 0;}#sk-container-id-11 div.sk-serial {display: flex;flex-direction: column;align-items: center;background-color: white;padding-right: 0.2em;padding-left: 0.2em;position: relative;}#sk-container-id-11 div.sk-item {position: relative;z-index: 1;}#sk-container-id-11 div.sk-parallel {display: flex;align-items: stretch;justify-content: center;background-color: white;position: relative;}#sk-container-id-11 div.sk-item::before, #sk-container-id-11 div.sk-parallel-item::before {content: \"\";position: absolute;border-left: 1px solid gray;box-sizing: border-box;top: 0;bottom: 0;left: 50%;z-index: -1;}#sk-container-id-11 div.sk-parallel-item {display: flex;flex-direction: column;z-index: 1;position: relative;background-color: white;}#sk-container-id-11 div.sk-parallel-item:first-child::after {align-self: flex-end;width: 50%;}#sk-container-id-11 div.sk-parallel-item:last-child::after {align-self: flex-start;width: 50%;}#sk-container-id-11 div.sk-parallel-item:only-child::after {width: 0;}#sk-container-id-11 div.sk-dashed-wrapped {border: 1px dashed gray;margin: 0 0.4em 0.5em 0.4em;box-sizing: border-box;padding-bottom: 0.4em;background-color: white;}#sk-container-id-11 div.sk-label label {font-family: monospace;font-weight: bold;display: inline-block;line-height: 1.2em;}#sk-container-id-11 div.sk-label-container {text-align: center;}#sk-container-id-11 div.sk-container {/* jupyter's `normalize.less` sets `[hidden] { display: none; }` but bootstrap.min.css set `[hidden] { display: none !important; }` so we also need the `!important` here to be able to override the default hidden behavior on the sphinx rendered scikit-learn.org. See: https://github.com/scikit-learn/scikit-learn/issues/21755 */display: inline-block !important;position: relative;}#sk-container-id-11 div.sk-text-repr-fallback {display: none;}</style><div id=\"sk-container-id-11\" class=\"sk-top-container\"><div class=\"sk-text-repr-fallback\"><pre>SVR(C=100)</pre><b>In a Jupyter environment, please rerun this cell to show the HTML representation or trust the notebook. <br />On GitHub, the HTML representation is unable to render, please try loading this page with nbviewer.org.</b></div><div class=\"sk-container\" hidden><div class=\"sk-item\"><div class=\"sk-estimator sk-toggleable\"><input class=\"sk-toggleable__control sk-hidden--visually\" id=\"sk-estimator-id-19\" type=\"checkbox\" checked><label for=\"sk-estimator-id-19\" class=\"sk-toggleable__label sk-toggleable__label-arrow\">SVR</label><div class=\"sk-toggleable__content\"><pre>SVR(C=100)</pre></div></div></div></div></div>"
            ]
          },
          "metadata": {},
          "execution_count": 294
        }
      ]
    },
    {
      "cell_type": "code",
      "source": [
        "from sklearn.preprocessing import PolynomialFeatures\n",
        "from sklearn.linear_model import LinearRegression\n",
        "from sklearn.pipeline import make_pipeline\n",
        "\n",
        "degree = 2\n",
        "poly = make_pipeline(PolynomialFeatures(degree), LinearRegression())\n",
        "\n",
        "poly.fit(X_train_pca, y_train_no_outliers)"
      ],
      "metadata": {
        "id": "a9or-zxLqTlK",
        "outputId": "eb635db4-f7b0-4545-c340-ecefd14cdc6e",
        "colab": {
          "base_uri": "https://localhost:8080/",
          "height": 125
        }
      },
      "execution_count": 286,
      "outputs": [
        {
          "output_type": "execute_result",
          "data": {
            "text/plain": [
              "Pipeline(steps=[('polynomialfeatures', PolynomialFeatures()),\n",
              "                ('linearregression', LinearRegression())])"
            ],
            "text/html": [
              "<style>#sk-container-id-8 {color: black;background-color: white;}#sk-container-id-8 pre{padding: 0;}#sk-container-id-8 div.sk-toggleable {background-color: white;}#sk-container-id-8 label.sk-toggleable__label {cursor: pointer;display: block;width: 100%;margin-bottom: 0;padding: 0.3em;box-sizing: border-box;text-align: center;}#sk-container-id-8 label.sk-toggleable__label-arrow:before {content: \"▸\";float: left;margin-right: 0.25em;color: #696969;}#sk-container-id-8 label.sk-toggleable__label-arrow:hover:before {color: black;}#sk-container-id-8 div.sk-estimator:hover label.sk-toggleable__label-arrow:before {color: black;}#sk-container-id-8 div.sk-toggleable__content {max-height: 0;max-width: 0;overflow: hidden;text-align: left;background-color: #f0f8ff;}#sk-container-id-8 div.sk-toggleable__content pre {margin: 0.2em;color: black;border-radius: 0.25em;background-color: #f0f8ff;}#sk-container-id-8 input.sk-toggleable__control:checked~div.sk-toggleable__content {max-height: 200px;max-width: 100%;overflow: auto;}#sk-container-id-8 input.sk-toggleable__control:checked~label.sk-toggleable__label-arrow:before {content: \"▾\";}#sk-container-id-8 div.sk-estimator input.sk-toggleable__control:checked~label.sk-toggleable__label {background-color: #d4ebff;}#sk-container-id-8 div.sk-label input.sk-toggleable__control:checked~label.sk-toggleable__label {background-color: #d4ebff;}#sk-container-id-8 input.sk-hidden--visually {border: 0;clip: rect(1px 1px 1px 1px);clip: rect(1px, 1px, 1px, 1px);height: 1px;margin: -1px;overflow: hidden;padding: 0;position: absolute;width: 1px;}#sk-container-id-8 div.sk-estimator {font-family: monospace;background-color: #f0f8ff;border: 1px dotted black;border-radius: 0.25em;box-sizing: border-box;margin-bottom: 0.5em;}#sk-container-id-8 div.sk-estimator:hover {background-color: #d4ebff;}#sk-container-id-8 div.sk-parallel-item::after {content: \"\";width: 100%;border-bottom: 1px solid gray;flex-grow: 1;}#sk-container-id-8 div.sk-label:hover label.sk-toggleable__label {background-color: #d4ebff;}#sk-container-id-8 div.sk-serial::before {content: \"\";position: absolute;border-left: 1px solid gray;box-sizing: border-box;top: 0;bottom: 0;left: 50%;z-index: 0;}#sk-container-id-8 div.sk-serial {display: flex;flex-direction: column;align-items: center;background-color: white;padding-right: 0.2em;padding-left: 0.2em;position: relative;}#sk-container-id-8 div.sk-item {position: relative;z-index: 1;}#sk-container-id-8 div.sk-parallel {display: flex;align-items: stretch;justify-content: center;background-color: white;position: relative;}#sk-container-id-8 div.sk-item::before, #sk-container-id-8 div.sk-parallel-item::before {content: \"\";position: absolute;border-left: 1px solid gray;box-sizing: border-box;top: 0;bottom: 0;left: 50%;z-index: -1;}#sk-container-id-8 div.sk-parallel-item {display: flex;flex-direction: column;z-index: 1;position: relative;background-color: white;}#sk-container-id-8 div.sk-parallel-item:first-child::after {align-self: flex-end;width: 50%;}#sk-container-id-8 div.sk-parallel-item:last-child::after {align-self: flex-start;width: 50%;}#sk-container-id-8 div.sk-parallel-item:only-child::after {width: 0;}#sk-container-id-8 div.sk-dashed-wrapped {border: 1px dashed gray;margin: 0 0.4em 0.5em 0.4em;box-sizing: border-box;padding-bottom: 0.4em;background-color: white;}#sk-container-id-8 div.sk-label label {font-family: monospace;font-weight: bold;display: inline-block;line-height: 1.2em;}#sk-container-id-8 div.sk-label-container {text-align: center;}#sk-container-id-8 div.sk-container {/* jupyter's `normalize.less` sets `[hidden] { display: none; }` but bootstrap.min.css set `[hidden] { display: none !important; }` so we also need the `!important` here to be able to override the default hidden behavior on the sphinx rendered scikit-learn.org. See: https://github.com/scikit-learn/scikit-learn/issues/21755 */display: inline-block !important;position: relative;}#sk-container-id-8 div.sk-text-repr-fallback {display: none;}</style><div id=\"sk-container-id-8\" class=\"sk-top-container\"><div class=\"sk-text-repr-fallback\"><pre>Pipeline(steps=[(&#x27;polynomialfeatures&#x27;, PolynomialFeatures()),\n",
              "                (&#x27;linearregression&#x27;, LinearRegression())])</pre><b>In a Jupyter environment, please rerun this cell to show the HTML representation or trust the notebook. <br />On GitHub, the HTML representation is unable to render, please try loading this page with nbviewer.org.</b></div><div class=\"sk-container\" hidden><div class=\"sk-item sk-dashed-wrapped\"><div class=\"sk-label-container\"><div class=\"sk-label sk-toggleable\"><input class=\"sk-toggleable__control sk-hidden--visually\" id=\"sk-estimator-id-14\" type=\"checkbox\" ><label for=\"sk-estimator-id-14\" class=\"sk-toggleable__label sk-toggleable__label-arrow\">Pipeline</label><div class=\"sk-toggleable__content\"><pre>Pipeline(steps=[(&#x27;polynomialfeatures&#x27;, PolynomialFeatures()),\n",
              "                (&#x27;linearregression&#x27;, LinearRegression())])</pre></div></div></div><div class=\"sk-serial\"><div class=\"sk-item\"><div class=\"sk-estimator sk-toggleable\"><input class=\"sk-toggleable__control sk-hidden--visually\" id=\"sk-estimator-id-15\" type=\"checkbox\" ><label for=\"sk-estimator-id-15\" class=\"sk-toggleable__label sk-toggleable__label-arrow\">PolynomialFeatures</label><div class=\"sk-toggleable__content\"><pre>PolynomialFeatures()</pre></div></div></div><div class=\"sk-item\"><div class=\"sk-estimator sk-toggleable\"><input class=\"sk-toggleable__control sk-hidden--visually\" id=\"sk-estimator-id-16\" type=\"checkbox\" ><label for=\"sk-estimator-id-16\" class=\"sk-toggleable__label sk-toggleable__label-arrow\">LinearRegression</label><div class=\"sk-toggleable__content\"><pre>LinearRegression()</pre></div></div></div></div></div></div></div>"
            ]
          },
          "metadata": {},
          "execution_count": 286
        }
      ]
    },
    {
      "cell_type": "code",
      "source": [
        "from sklearn.ensemble import RandomForestRegressor\n",
        "\n",
        "rf = RandomForestRegressor()\n",
        "rf.fit(X_train_pca, y_train_no_outliers)\n"
      ],
      "metadata": {
        "id": "00fT4qwU_kOQ",
        "outputId": "805a05cc-1755-4ce2-8a6e-071a00007f43",
        "colab": {
          "base_uri": "https://localhost:8080/",
          "height": 74
        }
      },
      "execution_count": 296,
      "outputs": [
        {
          "output_type": "execute_result",
          "data": {
            "text/plain": [
              "RandomForestRegressor()"
            ],
            "text/html": [
              "<style>#sk-container-id-12 {color: black;background-color: white;}#sk-container-id-12 pre{padding: 0;}#sk-container-id-12 div.sk-toggleable {background-color: white;}#sk-container-id-12 label.sk-toggleable__label {cursor: pointer;display: block;width: 100%;margin-bottom: 0;padding: 0.3em;box-sizing: border-box;text-align: center;}#sk-container-id-12 label.sk-toggleable__label-arrow:before {content: \"▸\";float: left;margin-right: 0.25em;color: #696969;}#sk-container-id-12 label.sk-toggleable__label-arrow:hover:before {color: black;}#sk-container-id-12 div.sk-estimator:hover label.sk-toggleable__label-arrow:before {color: black;}#sk-container-id-12 div.sk-toggleable__content {max-height: 0;max-width: 0;overflow: hidden;text-align: left;background-color: #f0f8ff;}#sk-container-id-12 div.sk-toggleable__content pre {margin: 0.2em;color: black;border-radius: 0.25em;background-color: #f0f8ff;}#sk-container-id-12 input.sk-toggleable__control:checked~div.sk-toggleable__content {max-height: 200px;max-width: 100%;overflow: auto;}#sk-container-id-12 input.sk-toggleable__control:checked~label.sk-toggleable__label-arrow:before {content: \"▾\";}#sk-container-id-12 div.sk-estimator input.sk-toggleable__control:checked~label.sk-toggleable__label {background-color: #d4ebff;}#sk-container-id-12 div.sk-label input.sk-toggleable__control:checked~label.sk-toggleable__label {background-color: #d4ebff;}#sk-container-id-12 input.sk-hidden--visually {border: 0;clip: rect(1px 1px 1px 1px);clip: rect(1px, 1px, 1px, 1px);height: 1px;margin: -1px;overflow: hidden;padding: 0;position: absolute;width: 1px;}#sk-container-id-12 div.sk-estimator {font-family: monospace;background-color: #f0f8ff;border: 1px dotted black;border-radius: 0.25em;box-sizing: border-box;margin-bottom: 0.5em;}#sk-container-id-12 div.sk-estimator:hover {background-color: #d4ebff;}#sk-container-id-12 div.sk-parallel-item::after {content: \"\";width: 100%;border-bottom: 1px solid gray;flex-grow: 1;}#sk-container-id-12 div.sk-label:hover label.sk-toggleable__label {background-color: #d4ebff;}#sk-container-id-12 div.sk-serial::before {content: \"\";position: absolute;border-left: 1px solid gray;box-sizing: border-box;top: 0;bottom: 0;left: 50%;z-index: 0;}#sk-container-id-12 div.sk-serial {display: flex;flex-direction: column;align-items: center;background-color: white;padding-right: 0.2em;padding-left: 0.2em;position: relative;}#sk-container-id-12 div.sk-item {position: relative;z-index: 1;}#sk-container-id-12 div.sk-parallel {display: flex;align-items: stretch;justify-content: center;background-color: white;position: relative;}#sk-container-id-12 div.sk-item::before, #sk-container-id-12 div.sk-parallel-item::before {content: \"\";position: absolute;border-left: 1px solid gray;box-sizing: border-box;top: 0;bottom: 0;left: 50%;z-index: -1;}#sk-container-id-12 div.sk-parallel-item {display: flex;flex-direction: column;z-index: 1;position: relative;background-color: white;}#sk-container-id-12 div.sk-parallel-item:first-child::after {align-self: flex-end;width: 50%;}#sk-container-id-12 div.sk-parallel-item:last-child::after {align-self: flex-start;width: 50%;}#sk-container-id-12 div.sk-parallel-item:only-child::after {width: 0;}#sk-container-id-12 div.sk-dashed-wrapped {border: 1px dashed gray;margin: 0 0.4em 0.5em 0.4em;box-sizing: border-box;padding-bottom: 0.4em;background-color: white;}#sk-container-id-12 div.sk-label label {font-family: monospace;font-weight: bold;display: inline-block;line-height: 1.2em;}#sk-container-id-12 div.sk-label-container {text-align: center;}#sk-container-id-12 div.sk-container {/* jupyter's `normalize.less` sets `[hidden] { display: none; }` but bootstrap.min.css set `[hidden] { display: none !important; }` so we also need the `!important` here to be able to override the default hidden behavior on the sphinx rendered scikit-learn.org. See: https://github.com/scikit-learn/scikit-learn/issues/21755 */display: inline-block !important;position: relative;}#sk-container-id-12 div.sk-text-repr-fallback {display: none;}</style><div id=\"sk-container-id-12\" class=\"sk-top-container\"><div class=\"sk-text-repr-fallback\"><pre>RandomForestRegressor()</pre><b>In a Jupyter environment, please rerun this cell to show the HTML representation or trust the notebook. <br />On GitHub, the HTML representation is unable to render, please try loading this page with nbviewer.org.</b></div><div class=\"sk-container\" hidden><div class=\"sk-item\"><div class=\"sk-estimator sk-toggleable\"><input class=\"sk-toggleable__control sk-hidden--visually\" id=\"sk-estimator-id-20\" type=\"checkbox\" checked><label for=\"sk-estimator-id-20\" class=\"sk-toggleable__label sk-toggleable__label-arrow\">RandomForestRegressor</label><div class=\"sk-toggleable__content\"><pre>RandomForestRegressor()</pre></div></div></div></div></div>"
            ]
          },
          "metadata": {},
          "execution_count": 296
        }
      ]
    },
    {
      "cell_type": "code",
      "source": [
        "from sklearn.model_selection import cross_validate\n",
        "from sklearn.metrics import explained_variance_score\n",
        "import numpy as np\n",
        "\n",
        "scoring_metrics = ['r2', 'neg_mean_squared_error', 'neg_root_mean_squared_error', 'explained_variance']\n",
        "\n",
        "scores_poly = cross_validate(poly, X_train_pca, y_train_no_outliers, cv=10, scoring=scoring_metrics)\n",
        "scores_svr = cross_validate(svr, X_train_pca, y_train_no_outliers, cv=10, scoring=scoring_metrics)\n",
        "scores_rf = cross_validate(rf, X_train_pca, y_train_no_outliers, cv=10, scoring=scoring_metrics)\n",
        "\n",
        "for metric in scoring_metrics:\n",
        "    print(f\"{metric.capitalize()} (poly): {np.mean(scores_poly[f'test_{metric}'])}, \"\n",
        "          f\"Standard Deviation: {np.std(scores_poly[f'test_{metric}'])}\")\n",
        "    print(f\"{metric.capitalize()} (SVR): {np.mean(scores_svr[f'test_{metric}'])}, \"\n",
        "          f\"Standard Deviation: {np.std(scores_svr[f'test_{metric}'])}\")\n",
        "    print(f\"{metric.capitalize()} (Random Forest): {np.mean(scores_rf[f'test_{metric}'])}, \"\n",
        "          f\"Standard Deviation: {np.std(scores_rf[f'test_{metric}'])}\\n\")"
      ],
      "metadata": {
        "id": "BGk3N1SP22pW",
        "outputId": "62ebd88e-4d4d-42ac-89e0-fe778ec8587e",
        "colab": {
          "base_uri": "https://localhost:8080/"
        }
      },
      "execution_count": 298,
      "outputs": [
        {
          "output_type": "stream",
          "name": "stdout",
          "text": [
            "R2 (poly): 0.20916899432051447, Standard Deviation: 0.5002576847902236\n",
            "R2 (SVR): 0.1612139719293136, Standard Deviation: 0.46241945168552756\n",
            "R2 (Random Forest): 0.1481212780111735, Standard Deviation: 0.42789161602438175\n",
            "\n",
            "Neg_mean_squared_error (poly): -2.115400484264728, Standard Deviation: 1.4407481569892684\n",
            "Neg_mean_squared_error (SVR): -2.2479393996987906, Standard Deviation: 1.2978957397961852\n",
            "Neg_mean_squared_error (Random Forest): -2.341721043892858, Standard Deviation: 1.3221176075830372\n",
            "\n",
            "Neg_root_mean_squared_error (poly): -1.369328289886482, Standard Deviation: 0.4902453658947634\n",
            "Neg_root_mean_squared_error (SVR): -1.4330936330891415, Standard Deviation: 0.4406609110167996\n",
            "Neg_root_mean_squared_error (Random Forest): -1.4632363686153644, Standard Deviation: 0.44795130701246927\n",
            "\n",
            "Explained_variance (poly): 0.39315302329748325, Standard Deviation: 0.3761354709616002\n",
            "Explained_variance (SVR): 0.35142034853713955, Standard Deviation: 0.3355731868956609\n",
            "Explained_variance (Random Forest): 0.32919400762974205, Standard Deviation: 0.39022538144362817\n",
            "\n"
          ]
        }
      ]
    },
    {
      "cell_type": "code",
      "source": [
        "y_pred = svr.predict(X_test_pca)\n",
        "r2 = r2_score(y_test, y_pred)\n",
        "mse = mean_squared_error(y_test, y_pred)\n",
        "rmse = mean_squared_error(y_test, y_pred, squared=False)\n",
        "\n",
        "\n",
        "print(f'R2 Score (SVR): {r2}')\n",
        "print(f'Mean Squared Error Score (SVR): {mse}')\n",
        "print(f'Root Mean Squared Error Score (SVR): {rmse}\\n')\n",
        "\n",
        "\n",
        "\n",
        "y_pred_poly = poly.predict(X_test_pca)\n",
        "\n",
        "r2_poly = r2_score(y_test, y_pred_poly)\n",
        "mse_poly = mean_squared_error(y_test, y_pred_poly)\n",
        "rmse_poly = mean_squared_error(y_test, y_pred_poly, squared=False)\n",
        "print(f'R2 Score (Polynomial Regression): {r2_poly}')\n",
        "print(f'Mean Squared Error (Polynomial Regression): {mse_poly}')\n",
        "print(f'Root Mean Squared Error (Polynomial Regression): {rmse_poly}\\n')\n",
        "\n",
        "\n",
        "y_pred_rf = rf.predict(X_test_pca)\n",
        "\n",
        "r2_rf = r2_score(y_test, y_pred_poly)\n",
        "mse_rf = mean_squared_error(y_test, y_pred_poly)\n",
        "rmse_rf = mean_squared_error(y_test, y_pred_poly, squared=False)\n",
        "print(f'R2 Score (Random Forest): {r2_rf}')\n",
        "print(f'Mean Squared Error (Random Forest): {mse_rf}')\n",
        "print(f'Root Mean Squared Error (Random Forest): {rmse_rf}\\n')\n",
        "\n",
        "\n",
        "\n",
        "#plt.scatter(X_test, y_test, label = 'True values', color='blue')\n",
        "plt.scatter(y_test, y_pred, label = \"SVR\")\n",
        "plt.scatter(y_test, y_pred_poly, label = \"Polynomial\")\n",
        "plt.scatter(y_test, y_pred_rf, label = \"Random Forest\")\n",
        "plt.xlabel('True values')\n",
        "plt.ylabel('Predicted values')\n",
        "plt.title(\"Comparison of regression models\")\n",
        "plt.legend(loc = 'lower right')\n",
        "plt.show()"
      ],
      "metadata": {
        "id": "Eik31F49vY_P",
        "outputId": "ab170c12-a26c-4d0c-cd8e-dc3cdf37eea1",
        "colab": {
          "base_uri": "https://localhost:8080/",
          "height": 680
        }
      },
      "execution_count": 300,
      "outputs": [
        {
          "output_type": "stream",
          "name": "stdout",
          "text": [
            "R2 Score (SVR): -0.21146106243085505\n",
            "Mean Squared Error Score (SVR): 2.5899312608993035\n",
            "Root Mean Squared Error Score (SVR): 1.6093263376019493\n",
            "\n",
            "R2 Score (Polynomial Regression): 0.04528132556514319\n",
            "Mean Squared Error (Polynomial Regression): 2.041052590928244\n",
            "Root Mean Squared Error (Polynomial Regression): 1.4286541187174187\n",
            "\n",
            "R2 Score (Random Forest): 0.04528132556514319\n",
            "Mean Squared Error (Random Forest): 2.041052590928244\n",
            "Root Mean Squared Error (Random Forest): 1.4286541187174187\n",
            "\n"
          ]
        },
        {
          "output_type": "display_data",
          "data": {
            "text/plain": [
              "<Figure size 640x480 with 1 Axes>"
            ],
            "image/png": "[encoded data removed]"
          },
          "metadata": {}
        }
      ]
    }
  ]
}