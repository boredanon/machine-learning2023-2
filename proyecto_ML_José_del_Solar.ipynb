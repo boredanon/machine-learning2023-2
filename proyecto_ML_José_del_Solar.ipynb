{
  "nbformat": 4,
  "nbformat_minor": 0,
  "metadata": {
    "colab": {
      "provenance": [],
      "authorship_tag": "ABX9TyOZCx0SJ6vIn1tLlK/dqkS7",
      "include_colab_link": true
    },
    "kernelspec": {
      "name": "python3",
      "display_name": "Python 3"
    },
    "language_info": {
      "name": "python"
    }
  },
  "cells": [
    {
      "cell_type": "markdown",
      "metadata": {
        "id": "view-in-github",
        "colab_type": "text"
      },
      "source": [
        "<a href=\"https://colab.research.google.com/github/boredanon/machine-learning2023-2/blob/main/proyecto_ML_Jos%C3%A9_del_Solar.ipynb\" target=\"_parent\"><img src=\"https://colab.research.google.com/assets/colab-badge.svg\" alt=\"Open In Colab\"/></a>"
      ]
    },
    {
      "cell_type": "markdown",
      "source": [
        "# Obtaining the Data\n",
        "\n",
        "\n",
        "Install gspread to obtain the data directly from the google spreadsheet.\n",
        "\n",
        "Only run this block if:\n",
        "\n",
        "\n",
        "1) Running on colab\n",
        "\n",
        "\n",
        "2) Running locally while not having gspread installed in your system"
      ],
      "metadata": {
        "id": "OsZrX9WyWqGY"
      }
    },
    {
      "cell_type": "code",
      "execution_count": 38,
      "metadata": {
        "id": "Xh3DGheyVbep"
      },
      "outputs": [],
      "source": [
        "!pip install --upgrade -q gspread"
      ]
    },
    {
      "cell_type": "markdown",
      "source": [
        "Loading the data from the google spreadsheet.\n",
        "Do not worry it won't delete anything from your google drive, but the credentials are needed. 👀"
      ],
      "metadata": {
        "id": "56uXdOT5XxLe"
      }
    },
    {
      "cell_type": "code",
      "source": [
        "import gspread\n",
        "import pandas as pd\n",
        "from google.colab import auth\n",
        "from google.auth import default\n",
        "\n",
        "# Google mumbo jumbo magic stuff.\n",
        "auth.authenticate_user()\n",
        "creds, _ = default()\n",
        "\n",
        "gc = gspread.authorize(creds)\n",
        "sh = gc.open_by_url(\"https://docs.google.com/spreadsheets/d/1cJZIUTPoYliSej8ZQumPdrvWjcZeRyuEqyC4JyXpx-8/edit#gid=1570725307\")\n",
        "worksheet_A = sh.worksheet(\"A\")\n",
        "worksheet_B = sh.worksheet(\"B\")\n",
        "\n",
        "rows_B = worksheet_B.get_all_values()[1:]\n",
        "\n",
        "rows = worksheet_A.get_all_values() + rows_B\n",
        "\n",
        "#Like this, otherwise it takes the names as a row!\n",
        "df = pd.DataFrame(rows[1:], columns = rows[0])\n",
        "\n",
        "X = df.drop(columns=['Y'])\n",
        "y = df['Y']\n",
        "\n",
        "X = X.astype(float)\n",
        "y = y.astype(float)\n"
      ],
      "metadata": {
        "id": "dXBv-lbiXSXa"
      },
      "execution_count": 39,
      "outputs": []
    },
    {
      "cell_type": "markdown",
      "source": [
        "Check if it loaded correctly, it should be 480 columns and 93 entries for X.\n",
        "93 entries and 1 column for y."
      ],
      "metadata": {
        "id": "AsccRP2saLai"
      }
    },
    {
      "cell_type": "code",
      "source": [
        "print(X.info(), \"\\n\")\n",
        "print(y.info())"
      ],
      "metadata": {
        "id": "9eg4TMQ6aMZI",
        "outputId": "c039c9a4-ea25-42cb-f986-f13b13ebf67b",
        "colab": {
          "base_uri": "https://localhost:8080/"
        }
      },
      "execution_count": 40,
      "outputs": [
        {
          "output_type": "stream",
          "name": "stdout",
          "text": [
            "<class 'pandas.core.frame.DataFrame'>\n",
            "RangeIndex: 93 entries, 0 to 92\n",
            "Columns: 480 entries, X1 to X480\n",
            "dtypes: float64(480)\n",
            "memory usage: 348.9 KB\n",
            "None \n",
            "\n",
            "<class 'pandas.core.series.Series'>\n",
            "RangeIndex: 93 entries, 0 to 92\n",
            "Series name: Y\n",
            "Non-Null Count  Dtype  \n",
            "--------------  -----  \n",
            "93 non-null     float64\n",
            "dtypes: float64(1)\n",
            "memory usage: 872.0 bytes\n",
            "None\n"
          ]
        }
      ]
    },
    {
      "cell_type": "code",
      "source": [
        "print(X.describe())\n",
        "print(y.describe())"
      ],
      "metadata": {
        "id": "0abgGQlJfXT8",
        "outputId": "7c6435a1-3b20-4e11-9482-1bd64917a89c",
        "colab": {
          "base_uri": "https://localhost:8080/"
        }
      },
      "execution_count": 41,
      "outputs": [
        {
          "output_type": "stream",
          "name": "stdout",
          "text": [
            "               X1          X2          X3          X4          X5          X6  \\\n",
            "count   93.000000   93.000000   93.000000   93.000000   93.000000   93.000000   \n",
            "mean   921.198065  922.966667  921.956774  921.920108  924.829462  923.234946   \n",
            "std     21.580701   23.203403   23.120603   22.511511   21.168588   22.694371   \n",
            "min    898.170000  898.200000  897.320000  897.560000  901.710000  898.870000   \n",
            "25%    901.530000  901.860000  900.910000  901.410000  905.570000  902.510000   \n",
            "50%    904.250000  904.510000  903.540000  904.280000  908.230000  905.360000   \n",
            "75%    943.910000  947.530000  946.310000  945.570000  947.030000  947.190000   \n",
            "max    948.090000  951.620000  950.710000  949.700000  951.060000  951.500000   \n",
            "\n",
            "               X7          X8          X9         X10  ...       X471  \\\n",
            "count   93.000000   93.000000   93.000000   93.000000  ...  93.000000   \n",
            "mean   921.457419  921.599140  922.459892  922.065376  ...   3.259355   \n",
            "std     22.962681   22.545082   22.642812   19.751497  ...   0.400949   \n",
            "min    896.620000  897.200000  898.160000  900.230000  ...   2.780000   \n",
            "25%    900.560000  901.040000  901.840000  904.050000  ...   2.900000   \n",
            "50%    903.320000  904.020000  904.790000  907.040000  ...   2.930000   \n",
            "75%    945.530000  945.260000  946.130000  942.730000  ...   3.700000   \n",
            "max    950.090000  949.820000  950.590000  947.050000  ...   3.770000   \n",
            "\n",
            "            X472       X473       X474       X475       X476       X477  \\\n",
            "count  93.000000  93.000000  93.000000  93.000000  93.000000  93.000000   \n",
            "mean    3.415376   3.300323   3.445161   3.396129   3.283548   3.470753   \n",
            "std     0.464228   0.719723   0.424017   0.516049   0.544076   0.278045   \n",
            "min     2.790000   2.580000   2.940000   2.830000   2.710000   3.110000   \n",
            "25%     3.000000   2.650000   3.060000   2.930000   2.790000   3.230000   \n",
            "50%     3.070000   2.710000   3.130000   2.990000   2.840000   3.280000   \n",
            "75%     3.920000   4.080000   3.900000   3.970000   3.870000   3.780000   \n",
            "max     4.000000   4.160000   3.970000   4.020000   3.940000   3.840000   \n",
            "\n",
            "            X478       X479       X480  \n",
            "count  93.000000  93.000000  93.000000  \n",
            "mean    3.470430   3.415484   3.407634  \n",
            "std     0.688213   0.421953   0.685205  \n",
            "min     2.690000   2.890000   2.670000  \n",
            "25%     2.850000   3.040000   2.780000  \n",
            "50%     2.920000   3.070000   2.850000  \n",
            "75%     4.210000   3.880000   4.160000  \n",
            "max     4.320000   3.940000   4.240000  \n",
            "\n",
            "[8 rows x 480 columns]\n",
            "count    93.000000\n",
            "mean     -1.341935\n",
            "std       1.841017\n",
            "min      -6.700000\n",
            "25%      -2.500000\n",
            "50%      -0.960000\n",
            "75%       0.000000\n",
            "max       1.800000\n",
            "Name: Y, dtype: float64\n"
          ]
        }
      ]
    },
    {
      "cell_type": "markdown",
      "source": [
        "## Preprocessing of the data"
      ],
      "metadata": {
        "id": "IgOUmY3_cCZF"
      }
    },
    {
      "cell_type": "code",
      "source": [
        "print(df.isnull().sum())"
      ],
      "metadata": {
        "id": "sbLwzUynqa6p",
        "outputId": "cc21797f-e6b0-478b-8b14-5cae6b322ff0",
        "colab": {
          "base_uri": "https://localhost:8080/"
        }
      },
      "execution_count": 42,
      "outputs": [
        {
          "output_type": "stream",
          "name": "stdout",
          "text": [
            "Y       0\n",
            "X1      0\n",
            "X2      0\n",
            "X3      0\n",
            "X4      0\n",
            "       ..\n",
            "X476    0\n",
            "X477    0\n",
            "X478    0\n",
            "X479    0\n",
            "X480    0\n",
            "Length: 481, dtype: int64\n"
          ]
        }
      ]
    },
    {
      "cell_type": "code",
      "source": [
        "from scipy.stats import zscore\n",
        "\n",
        "z_scores = zscore(X)\n",
        "\n",
        "threshold = 4\n",
        "\n",
        "outliers_X = (abs(z_scores) > threshold).any(axis=1)\n",
        "\n",
        "X_without_outliers = X[~outliers_X]\n",
        "y_without_outliers = y[~outliers_X]\n",
        "\n",
        "alive = round((1 - (X_without_outliers.shape[0]/X.shape[0]))*100, 2)\n",
        "print(alive, \"% of data points were deleted.\")"
      ],
      "metadata": {
        "id": "xWlJQZHhuKUj",
        "outputId": "702a83c2-5fec-46b6-d8d2-c9e57d5dfe54",
        "colab": {
          "base_uri": "https://localhost:8080/"
        }
      },
      "execution_count": 43,
      "outputs": [
        {
          "output_type": "stream",
          "name": "stdout",
          "text": [
            "4.3 % of data points were deleted.\n"
          ]
        }
      ]
    },
    {
      "cell_type": "code",
      "source": [
        "from sklearn.preprocessing import MinMaxScaler\n",
        "\n",
        "scaler = MinMaxScaler()\n",
        "\n",
        "X_normalized = pd.DataFrame(scaler.fit_transform(X_without_outliers), columns=X.columns)"
      ],
      "metadata": {
        "id": "i5nRicq0cFNd"
      },
      "execution_count": 70,
      "outputs": []
    },
    {
      "cell_type": "code",
      "source": [
        "from sklearn.decomposition import PCA\n",
        "\n",
        "X_pca = PCA(n_components=5)\n",
        "X_pca.fit(X_normalized)\n",
        "print(X_pca.explained_variance_ratio_)\n",
        "print(X_pca.explained_variance_ratio_.cumsum())\n",
        "\n",
        "X_pca_data = X_pca.transform(X_normalized)\n",
        "print(X_pca_data.shape)"
      ],
      "metadata": {
        "id": "AglcUduZluWX",
        "outputId": "b3bfd095-4cfc-4cf1-814e-9100a3fb7aee",
        "colab": {
          "base_uri": "https://localhost:8080/"
        }
      },
      "execution_count": 82,
      "outputs": [
        {
          "output_type": "stream",
          "name": "stdout",
          "text": [
            "[0.96570726 0.01310581 0.00507004 0.00169309 0.00137767]\n",
            "[0.96570726 0.97881308 0.98388311 0.9855762  0.98695387]\n",
            "(89, 5)\n"
          ]
        }
      ]
    },
    {
      "cell_type": "code",
      "source": [
        "import seaborn as sns\n",
        "\n",
        "X_pca_df = pd.DataFrame(X_pca_data, columns=['PC1', 'PC2', 'PC3', 'PC4', 'PC5'])\n",
        "X_pca_df['Y'] = y_without_outliers.copy()\n",
        "\n",
        "sns.lmplot(x='PC1', y='PC2', data=X_pca_df)\n",
        "sns.lmplot(x='PC1', y='PC3', data=X_pca_df)"
      ],
      "metadata": {
        "id": "ijo4QYTlobdE",
        "outputId": "86576016-50ad-49d3-872d-431e9762a3d0",
        "colab": {
          "base_uri": "https://localhost:8080/",
          "height": 1000
        }
      },
      "execution_count": 89,
      "outputs": [
        {
          "output_type": "execute_result",
          "data": {
            "text/plain": [
              "<seaborn.axisgrid.FacetGrid at 0x78b43878a860>"
            ]
          },
          "metadata": {},
          "execution_count": 89
        },
        {
          "output_type": "display_data",
          "data": {
            "text/plain": [
              "<Figure size 500x500 with 1 Axes>"
            ],
            "image/png": "[encoded data removed]"
          },
          "metadata": {}
        },
        {
          "output_type": "display_data",
          "data": {
            "text/plain": [
              "<Figure size 500x500 with 1 Axes>"
            ],
            "image/png": "[encoded data removed]"
          },
          "metadata": {}
        }
      ]
    }
  ]
}